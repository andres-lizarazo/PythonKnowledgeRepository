{
 "cells": [
  {
   "cell_type": "code",
   "execution_count": null,
   "id": "a9ef1336",
   "metadata": {},
   "outputs": [],
   "source": [
    "import pandas as pd\n",
    "import numpy as np\n",
    "import matplotlib.pyplot as plt # or as pp\n",
    "%matplotlib inline #para tener gráfico en notebook\n",
    "import math\n",
    "import collections\n",
    "from pandas import DataFrame\n",
    "from pandas import Series\n",
    "from pandas import concat\n",
    "from numpy.random import randn\n",
    "import datetime\n",
    "from dataclasses import dataclass"
   ]
  },
  {
   "cell_type": "code",
   "execution_count": null,
   "id": "a7ad44ec",
   "metadata": {},
   "outputs": [],
   "source": [
    "X=[1, 2, 3, 4]\n",
    "Y=[4, 3, 2, 1]\n",
    "dataFrame2 = pd.DataFrame([X,Y])\n",
    "dataFrame2.head()\n",
    "dataFrame2=pd.DataFrame({'uno':list(X),'dos':list(Y)},index=['a', 'b','c','d' ])\n",
    "dataFrame2.head()"
   ]
  },
  {
   "cell_type": "code",
   "execution_count": null,
   "id": "5fef9b33",
   "metadata": {},
   "outputs": [],
   "source": [
    "dict2={'edad':list(X),'peso':list(Y),}\n",
    "index=['amparo', 'benito','camilo','diana']\n",
    "dataFrame2=pd.DataFrame(dict2,index)\n",
    "dataFrame2.head()"
   ]
  },
  {
   "cell_type": "code",
   "execution_count": null,
   "id": "9c68bd21",
   "metadata": {},
   "outputs": [],
   "source": [
    "#iloc basándose en posición e ix basándose tanto en etiquetas como posición.  En el caso de una Serie, devuelve un único valor\n",
    "# y en el caso de los DataFrame puede devolver tanto una Serie si sólo se indica la posición de fila, o un valor único si se indican fila y columna.\n",
    "dict3= ['Casillas', 'Ramos', 'Pique', 'Puyol', 'Capdevila', 'Xabi Alonso', 'Busquets', 'Xavi Hernandez', 'Pedrito', 'Iniesta', 'Villa']"
   ]
  },
  {
   "cell_type": "code",
   "execution_count": null,
   "id": "a327f5e2",
   "metadata": {},
   "outputs": [],
   "source": [
    "index3=[1, 15, 3, 5, 11, 14, 16, 8, 18, 6, 7]\n",
    "serie= pd.Series(dict3, index3)\n",
    "spanishPlayers = pd.Series(dict3, index3)\n",
    "print (\"Spanish Football Players: \\n%s\" % spanishPlayers)"
   ]
  },
  {
   "cell_type": "code",
   "execution_count": null,
   "id": "dfbe373c",
   "metadata": {},
   "outputs": [],
   "source": [
    "dict4= ['Casillas', 'Ramos', 'Pique', 'Puyol', 'Capdevila', 'Xabi Alonso', 'Busquets',\n",
    "        'Xavi Hernandez', 'Pedrito', 'Iniesta', 'Villa']\n",
    "index4=['1', '15',' 3',' 5',' 11', '14', '16', '8', '18',' 6',' 7']\n",
    "dataFrame4= pd.DataFrame({'nombre':list(dict4),'camisa': list(index4)})\n",
    "spanishPlayers = pd.DataFrame(dict4, index4)\n",
    "dataFrame4.head()\n",
    "dataFrame5=pd.DataFrame([dict4,index4],{'nombre':list(dict4),'camisa': list(index4)})\n",
    "dataFrame5.head()"
   ]
  },
  {
   "cell_type": "code",
   "execution_count": null,
   "id": "30f6e01e",
   "metadata": {},
   "outputs": [],
   "source": [
    "spanishPlayersDF = pd.DataFrame(\n",
    "    {\n",
    "        'name': ['Casillas', 'Ramos', 'Pique', 'Puyol', 'Capdevila', 'Xabi Alonso', 'Busquets', 'Xavi Hernandez',\n",
    "                 'Pedrito', 'Iniesta', 'Villa'],\n",
    "        'demarcation': ['Goalkeeper', 'Right back', 'Centre-back', 'Centre-back', 'Left back', 'Defensive midfield',\n",
    "                        'Defensive midfield', 'Midfielder', 'Left winger', 'Right winger', 'Centre forward'],\n",
    "        'team': ['Real Madrid', 'Real Madrid', 'FC Barcelona', 'FC Barcelona', 'Villareal', 'Real Madrid',\n",
    "                 'FC Barcelona', 'FC Barcelona', 'FC Barcelona', 'FC Barcelona', 'FC Barcelona']\n",
    "    }, columns=['name', 'demarcation', 'team'], index=[1, 15, 3, 5, 11, 14, 16, 8, 18, 6, 7]\n",
    ")\n",
    "spanishPlayersDF.head()"
   ]
  },
  {
   "cell_type": "code",
   "execution_count": null,
   "id": "d830c88c",
   "metadata": {},
   "outputs": [],
   "source": [
    "spanishPlayersDF.loc[1] = ['Cesc', 'Forward', 'Arsenal']\n",
    "spanishPlayersDF.head()"
   ]
  },
  {
   "cell_type": "code",
   "execution_count": null,
   "id": "10cd510d",
   "metadata": {},
   "outputs": [],
   "source": [
    "spanishPlayersDF.iloc[2]"
   ]
  },
  {
   "cell_type": "code",
   "execution_count": null,
   "id": "69e43857",
   "metadata": {},
   "outputs": [],
   "source": [
    "dictNombre=['Casillas', 'Ramos', 'Pique', 'Puyol', 'Capdevila', 'Xabi Alonso', 'Busquets', 'Xavi Hernandez',\n",
    "            'Pedrito', 'Iniesta', 'Villa']"
   ]
  },
  {
   "cell_type": "code",
   "execution_count": null,
   "id": "1d48dddd",
   "metadata": {},
   "outputs": [],
   "source": [
    "dictDemarca=['Goalkeeper', 'Right back', 'Centre-back', 'Centre-back', 'Left back', 'Defensive midfield',\n",
    "                        'Defensive midfield', 'Midfielder', 'Left winger', 'Right winger', 'Centre forward']"
   ]
  },
  {
   "cell_type": "code",
   "execution_count": null,
   "id": "e67f0623",
   "metadata": {},
   "outputs": [],
   "source": [
    "dictEquipo= ['Real Madrid', 'Real Madrid', 'FC Barcelona', 'FC Barcelona', 'Villareal', 'Real Madrid',\n",
    "                 'FC Barcelona', 'FC Barcelona', 'FC Barcelona', 'FC Barcelona', 'FC Barcelona']"
   ]
  },
  {
   "cell_type": "code",
   "execution_count": null,
   "id": "118a4c7d",
   "metadata": {},
   "outputs": [],
   "source": [
    "index=[1, 15, 3, 5, 11, 14, 16, 8, 18, 6, 7]"
   ]
  },
  {
   "cell_type": "code",
   "execution_count": null,
   "id": "6257bd2f",
   "metadata": {},
   "outputs": [],
   "source": [
    "spanishPlayers=pd.DataFrame({'Nombre':list(dictNombre),'Posición':list(dictDemarca),\n",
    "                             'Equipo': list(dictEquipo), 'camisa':list(index) } )\n",
    "spanishPlayers.head()"
   ]
  },
  {
   "cell_type": "code",
   "execution_count": null,
   "id": "4a7fbc5f",
   "metadata": {},
   "outputs": [],
   "source": [
    "spanishPlayers=pd.DataFrame([dictNombre,dictDemarca,dictEquipo, index],\n",
    "                            {'Nombre':list(dictNombre),'Posición':list(dictDemarca),\n",
    "                             'Equipo': list(dictEquipo), 'camisa':list(index),})\n",
    "spanishPlayers.head()"
   ]
  },
  {
   "cell_type": "code",
   "execution_count": null,
   "id": "917d2b86",
   "metadata": {},
   "outputs": [],
   "source": [
    "spanishPlayers.loc['hijos'] = [1, 4,2,3,4,1,2,3,4,1,2]\n",
    "spanishPlayers.head()"
   ]
  },
  {
   "cell_type": "markdown",
   "id": "bd5ddd30",
   "metadata": {},
   "source": [
    "NUEVO EJEMPLO"
   ]
  },
  {
   "cell_type": "code",
   "execution_count": null,
   "id": "8a0418fd",
   "metadata": {},
   "outputs": [],
   "source": [
    "raw_data = {'regiment': ['Nighthawks', 'Nighthawks', 'Nighthawks', 'Nighthawks', 'Dragoons', 'Dragoons', 'Dragoons', 'Dragoons', 'Scouts', 'Scouts', 'Scouts', 'Scouts'],\n",
    "            'company': ['1st', '1st', '2nd', '2nd', '1st', '1st', '2nd', '2nd','1st', '1st', '2nd', '2nd'],\n",
    "            'deaths': [523, 52, 25, 616, 43, 234, 523, 62, 62, 73, 37, 35],\n",
    "            'battles': [5, 42, 2, 2, 4, 7, 8, 3, 4, 7, 8, 9],\n",
    "            'size': [1045, 957, 1099, 1400, 1592, 1006, 987, 849, 973, 1005, 1099, 1523],\n",
    "            'veterans': [1, 5, 62, 26, 73, 37, 949, 48, 48, 435, 63, 345],\n",
    "            'readiness': [1, 2, 3, 3, 2, 1, 2, 3, 2, 1, 2, 3],\n",
    "            'armored': [1, 0, 1, 1, 0, 1, 0, 1, 0, 0, 1, 1],\n",
    "            'deserters': [4, 24, 31, 2, 3, 4, 24, 31, 2, 3, 2, 3],\n",
    "            'origin': ['Arizona', 'California', 'Texas', 'Florida', 'Maine', 'Iowa', 'Alaska', 'Washington', 'Oregon', 'Wyoming', 'Louisana', 'Georgia']}"
   ]
  },
  {
   "cell_type": "code",
   "execution_count": null,
   "id": "d5e4126c",
   "metadata": {},
   "outputs": [],
   "source": [
    "df = pd.DataFrame(raw_data, columns = ['regiment', 'company', 'deaths', 'battles', 'size', 'veterans', 'readiness', 'armored', 'deserters', 'origin'])"
   ]
  },
  {
   "cell_type": "code",
   "execution_count": null,
   "id": "74d079bb",
   "metadata": {},
   "outputs": [],
   "source": [
    "df = df.set_index('origin')"
   ]
  },
  {
   "cell_type": "code",
   "execution_count": null,
   "id": "3085b9d3",
   "metadata": {},
   "outputs": [],
   "source": [
    "df.head()"
   ]
  },
  {
   "cell_type": "code",
   "execution_count": null,
   "id": "2b2afa7e",
   "metadata": {
    "lines_to_next_cell": 2
   },
   "outputs": [],
   "source": [
    "df[['size', 'veterans']] #TABLA CON SOLO ESTAS COLUMNAS\n",
    "df.loc[:'Arizona']# FILA CON TODAS LAS COLUMNAS"
   ]
  },
  {
   "cell_type": "code",
   "execution_count": null,
   "id": "39c58858",
   "metadata": {},
   "outputs": [],
   "source": [
    "df.iloc[:2]  # Select every row hasta la 3era"
   ]
  },
  {
   "cell_type": "code",
   "execution_count": null,
   "id": "c3e40521",
   "metadata": {},
   "outputs": [],
   "source": [
    "# Select the 1 y 2 row\n",
    "df.iloc[1:2]"
   ]
  },
  {
   "cell_type": "code",
   "execution_count": null,
   "id": "3168defd",
   "metadata": {},
   "outputs": [],
   "source": [
    "# Select every row after the 2nd row\n",
    "df.iloc[2:]"
   ]
  },
  {
   "cell_type": "code",
   "execution_count": null,
   "id": "d14156cb",
   "metadata": {},
   "outputs": [],
   "source": [
    "# Select the first 2 columns\n",
    "df.iloc[:,:2]"
   ]
  },
  {
   "cell_type": "code",
   "execution_count": null,
   "id": "ce1b2559",
   "metadata": {},
   "outputs": [],
   "source": [
    "# Select rows where df.deaths is greater than 50\n",
    "df[df['deaths'] > 50]\n",
    "#simultaneo\n",
    "# data[(data['rnd_2'] == 2) & (data['rnd_3'] > 15)]"
   ]
  },
  {
   "cell_type": "code",
   "execution_count": null,
   "id": "816e2444",
   "metadata": {},
   "outputs": [],
   "source": [
    "# Select rows where df.deaths is greater than 500 or less than 50\n",
    "df[(df['deaths'] > 500) | (df['deaths'] < 50)]"
   ]
  },
  {
   "cell_type": "code",
   "execution_count": null,
   "id": "7d7bd7c3",
   "metadata": {},
   "outputs": [],
   "source": [
    "# Select all the regiments not named \"Dragoons\"\n",
    "df[~(df['regiment'] == 'Dragoons')]"
   ]
  },
  {
   "cell_type": "markdown",
   "id": "5d4d1219",
   "metadata": {},
   "source": [
    ".ix is the combination of both .loc and .iloc. Integers are first considered labels, but if not found, falls back on positional indexing"
   ]
  },
  {
   "cell_type": "code",
   "execution_count": null,
   "id": "385d79a9",
   "metadata": {},
   "outputs": [],
   "source": [
    "df.ix[['Arizona', 'Texas']]\n",
    "df.ix['Arizona', 'deaths'] #muertes en Arizona\n",
    "df.ix[2, 'deaths'] # tercera fila muertes"
   ]
  },
  {
   "cell_type": "code",
   "execution_count": null,
   "id": "aae32409",
   "metadata": {
    "lines_to_next_cell": 2
   },
   "outputs": [],
   "source": [
    "# .iloc[row,column]\n",
    "#from pandas import Series\n",
    "serie = Series(['a', 'b', 'c'])\n",
    "serie"
   ]
  },
  {
   "cell_type": "code",
   "execution_count": null,
   "id": "1c331f43",
   "metadata": {},
   "outputs": [],
   "source": [
    "df1 = DataFrame(randn(4,2), index=['a', 'b', 'c', 'd'], columns=['c1', 'c2']) #DataFrame con valores aleatorios"
   ]
  },
  {
   "cell_type": "code",
   "execution_count": null,
   "id": "4348ef00",
   "metadata": {},
   "outputs": [],
   "source": [
    "concat([df1, df2], axis=0) # concatena 2 tablas una bajo la otra\n",
    "concat([df1, df2], axis=1) # concatena 2 tablas una al lado de la otra"
   ]
  },
  {
   "cell_type": "code",
   "execution_count": null,
   "id": "ad5b02ef",
   "metadata": {},
   "outputs": [],
   "source": [
    "df.melt(id_vars=['regiment','company', 'deaths','battles'], var_name='quantity') # pivotear alguna Columna2"
   ]
  },
  {
   "cell_type": "code",
   "execution_count": null,
   "id": "8d33b74b",
   "metadata": {},
   "outputs": [],
   "source": [
    "dft = pd.DataFrame({\"A1970\" : {0 : \"a\", 1 : \"b\", 2 : \"c\"},\n",
    "                     \"A1980\" : {0 : \"d\", 1 : \"e\", 2 : \"f\"},\n",
    "                     \"B1970\" : {0 : 2.5, 1 : 1.2, 2 : .7},\n",
    "                     \"B1980\" : {0 : 3.2, 1 : 1.3, 2 : .1},\n",
    "                    \"X\"     : dict(zip(range(3), np.random.randn(3)))\n",
    "                    })"
   ]
  },
  {
   "cell_type": "code",
   "execution_count": null,
   "id": "b030fc1c",
   "metadata": {},
   "outputs": [],
   "source": [
    "dft[\"id\"] = dft.index #CREACION DE UNA PRIMARY KEY\n",
    "pd.wide_to_long(dft, [\"A\", \"B\"], i=\"id\", j=\"year\") #MIRAR XD"
   ]
  },
  {
   "cell_type": "code",
   "execution_count": null,
   "id": "8e5132c5",
   "metadata": {},
   "outputs": [],
   "source": [
    "df.stack()\n",
    "df.unstack()"
   ]
  },
  {
   "cell_type": "code",
   "execution_count": null,
   "id": "75abf4e8",
   "metadata": {
    "lines_to_next_cell": 2
   },
   "outputs": [],
   "source": [
    "df = pd.DataFrame({'A': ['one', 'one', 'two', 'three'] * 6,\n",
    "   ....:                    'B': ['A', 'B', 'C'] * 8,\n",
    "   ....:                    'C': ['foo', 'foo', 'foo', 'bar', 'bar', 'bar'] * 4,\n",
    "   ....:                    'D': np.random.randn(24),\n",
    "   ....:                    'E': np.random.randn(24),\n",
    "   ....:                    'F': [datetime.datetime(2013, i, 1) for i in range(1, 13)] +\n",
    "   ....:                         [datetime.datetime(2013, i, 15) for i in range(1, 13)]})"
   ]
  },
  {
   "cell_type": "code",
   "execution_count": null,
   "id": "9f013af8",
   "metadata": {
    "lines_to_next_cell": 2
   },
   "outputs": [],
   "source": [
    "pd.pivot_table(df, values='D', index=['A', 'B'], columns=['C']) #pivot table de la anterior"
   ]
  },
  {
   "cell_type": "code",
   "execution_count": null,
   "id": "0b572f18",
   "metadata": {},
   "outputs": [],
   "source": [
    "#datos del 2 al 4 en el índice y las columnas 'rnd_2' y fecha\n",
    "data.loc[2:4, ['rnd_2', 'fecha']]"
   ]
  },
  {
   "cell_type": "code",
   "execution_count": null,
   "id": "decd4f64",
   "metadata": {},
   "outputs": [],
   "source": [
    "# poner columna como index CLAVE LOGICA\n",
    "data_fecha = data.set_index('fecha')\n",
    "data_fecha.head()"
   ]
  },
  {
   "cell_type": "code",
   "execution_count": null,
   "id": "02f9f600",
   "metadata": {},
   "outputs": [],
   "source": [
    "#seleccionar casilla det\n",
    "data_fecha.loc[fecha_1,'rnd_1']"
   ]
  },
  {
   "cell_type": "code",
   "execution_count": null,
   "id": "88a1cf68",
   "metadata": {},
   "outputs": [],
   "source": [
    "# Se seleccionan las columnas rnd_2 y rnd_3 y se imprimen los primeros 5 datos\n",
    "# En este caso los dos puntos quiere decir que se seleccionan todas las filas\n",
    "data_fecha.iloc[:,[1,2]].head()"
   ]
  },
  {
   "cell_type": "code",
   "execution_count": null,
   "id": "5eecbe42",
   "metadata": {},
   "outputs": [],
   "source": [
    "#Se seleccionan las filas 1, 12, 34 y las columnas 0 y 2\n",
    "data_fecha.iloc[[1,12,34],[0,2]]"
   ]
  },
  {
   "cell_type": "code",
   "execution_count": null,
   "id": "da1b4eab",
   "metadata": {
    "lines_to_next_cell": 2
   },
   "outputs": [],
   "source": [
    "#reordena\n",
    "df.stack('tipo')\n",
    "# Ahora \"tipo\" como una clasificación interna de \"Rh\"\n",
    "df.stack(level=['Rh','tipo'])"
   ]
  },
  {
   "cell_type": "code",
   "execution_count": null,
   "id": "899ef4d2",
   "metadata": {},
   "outputs": [],
   "source": [
    "#lectura de archivo\n",
    "Tabla_archivo = pd.read_excel('archivo.xlsx', index=False)\n",
    "DF_tabla_archivo= pd.DataFrame(Tabla_archivo[['Columna1', 'Columan2', 'Columna3']])"
   ]
  },
  {
   "cell_type": "code",
   "execution_count": null,
   "id": "0d882560",
   "metadata": {},
   "outputs": [],
   "source": [
    "Tabla2= pd.pivot_table(Tabla_archivo, values='ColumnadeValores', index=['ColumnaCategoria', 'ColumnaSubcategoria'])"
   ]
  },
  {
   "cell_type": "code",
   "execution_count": null,
   "id": "d38caa60",
   "metadata": {},
   "outputs": [],
   "source": [
    "Tabla2.loc['Categoria15','Subcategoria34'] # trae el valor que se encuentra en columna de valores para la especificacion en otras ColumnadeValores"
   ]
  },
  {
   "cell_type": "code",
   "execution_count": null,
   "id": "b4b17d44",
   "metadata": {
    "lines_to_next_cell": 2
   },
   "outputs": [],
   "source": [
    "Tabla_archivo.head() #muestra primeras 5 filas de la Tabla_archivo"
   ]
  },
  {
   "cell_type": "code",
   "execution_count": null,
   "id": "61c791f8",
   "metadata": {},
   "outputs": [],
   "source": [
    "variable = hoja_excel.loc[:,'Columnax']\n",
    "ArrayVariable=np.array(variable)\n",
    "rango = np.max(ArrayVariable)- np.min(ArrayVariable)\n",
    "Cant_Rangos = 6\n",
    "anchoRangos = rango/Cant_Rangos*1.0"
   ]
  },
  {
   "cell_type": "code",
   "execution_count": null,
   "id": "2a380900",
   "metadata": {},
   "outputs": [],
   "source": [
    "bins_limits = np.linspace(np.min(ArrayVariable)-0.5, np.max(ArrayVariable)+0.5, 6)"
   ]
  },
  {
   "cell_type": "code",
   "execution_count": null,
   "id": "c99b245c",
   "metadata": {},
   "outputs": [],
   "source": [
    "binplace = np.digitize(edad, bins_limits)\n",
    "print (binplace)\n",
    "bin_counts = [len(ArrayVariable[binplace == i]) for i in range(1, len(bins_limits))]\n",
    "print (bin_counts)\n",
    "freq,bins=np.histogram(ArrayVariable,bins_limits)\n",
    "print(freq)\n",
    "print(bins)"
   ]
  },
  {
   "cell_type": "code",
   "execution_count": null,
   "id": "8ea877a9",
   "metadata": {},
   "outputs": [],
   "source": [
    "weigth=np.ones(len(ArrayVariable))\n",
    "table_freq=pd.crosstab(binplace,weigth)"
   ]
  },
  {
   "cell_type": "code",
   "execution_count": null,
   "id": "dfde3f40",
   "metadata": {},
   "outputs": [],
   "source": []
  },
  {
   "cell_type": "code",
   "execution_count": null,
   "id": "589cd5e6",
   "metadata": {},
   "outputs": [],
   "source": [
    "plt.hist(hoja_excel['ColumnadeValores'],bins=bins_limits,color='blue', edgecolor=\"white\")\n",
    "plt.plot() #histograma"
   ]
  },
  {
   "cell_type": "code",
   "execution_count": null,
   "id": "b00b67aa",
   "metadata": {},
   "outputs": [],
   "source": [
    "intervals_name=[]\n",
    "for i in range(len(bins)-1):\n",
    "    lim_inf=bins_limits[i]\n",
    "    lim_sup=bins_limits[i+1]\n",
    "    label='['+str(lim_inf)+\",\"+str(lim_sup)+\")\"\n",
    "    intervals_name.append(label)\n",
    "    print(label)"
   ]
  },
  {
   "cell_type": "code",
   "execution_count": null,
   "id": "f0f00e93",
   "metadata": {},
   "outputs": [],
   "source": [
    "freq_table=pd.crosstab(binplace,np.ones(len(edad)))\n",
    "freq_table\n",
    "freq_table.index=(intervals_name)\n",
    "freq_table.columns=(['Frequencia'])\n",
    "freq_table"
   ]
  },
  {
   "cell_type": "code",
   "execution_count": null,
   "id": "2c33be6e",
   "metadata": {},
   "outputs": [],
   "source": [
    "%matplotlib inline"
   ]
  },
  {
   "cell_type": "code",
   "execution_count": null,
   "id": "a3e8464b",
   "metadata": {},
   "outputs": [],
   "source": [
    "var2 = hoja_excel.loc[:,'Columna4']\n",
    "ArrayVar2= np.array(var2)"
   ]
  },
  {
   "cell_type": "code",
   "execution_count": null,
   "id": "a8a8c939",
   "metadata": {},
   "outputs": [],
   "source": [
    "DF_tabla_archivo.boxplot('Columna2')\n",
    "DF_tabla_archivo.boxplot('Columan4', by='Columna5')"
   ]
  },
  {
   "cell_type": "code",
   "execution_count": null,
   "id": "1ce01cc1",
   "metadata": {},
   "outputs": [],
   "source": [
    "DF_tabla_archivo.describe()# Aqui utilizamos la funcion \"describe\" para calcular la media, mediana, desviación estándar de las variables"
   ]
  },
  {
   "cell_type": "code",
   "execution_count": null,
   "id": "a6c3c554",
   "metadata": {},
   "outputs": [],
   "source": []
  },
  {
   "cell_type": "code",
   "execution_count": null,
   "id": "ac452a42",
   "metadata": {},
   "outputs": [],
   "source": [
    "##RANDOM VALUES\n",
    "X1 = np.random.normal(20, 5, 500) # Genera 500 valores para la variable aleatoria normal\n",
    "X2 = np.random.uniform(low=15, high=25, size=500) # Genera 500 valores para la variable aleatoria uniforme con sus limites dados\n",
    "np.mean(X1) # media\n",
    "np.std(X1) #desvesta\n",
    "np.var(X2)\n",
    "a = 15\n",
    "b = 25\n",
    "var_unif=((b-a)*(b-a))/12 #varianza de la distribucióm uniforme que está dado por (b-a)^2/12 donde a=15 y b=25"
   ]
  },
  {
   "cell_type": "code",
   "execution_count": null,
   "id": "e5769067",
   "metadata": {},
   "outputs": [],
   "source": [
    "#TABLA CON LAS VARIABLES CREADAS\n",
    "tabla = pd.DataFrame({'Normal':list(X1) , 'Uniforme':list(X2)})"
   ]
  },
  {
   "cell_type": "code",
   "execution_count": null,
   "id": "9b062066",
   "metadata": {},
   "outputs": [],
   "source": [
    "pob_0=10080734 #poblacion inicial\n",
    "n=10 #años\n",
    "pob_i=pob_0\n",
    "k=0.025 #2.5% de crecimiento anual\n",
    "pob_var=[] # lista para valores\n",
    "n_var=[] # lista para periodos"
   ]
  },
  {
   "cell_type": "code",
   "execution_count": null,
   "id": "b0d19786",
   "metadata": {},
   "outputs": [],
   "source": [
    "for i in range (n):\n",
    "    pob_i= pob_i*(1+k)\n",
    "    pob_var.append(pob_i)\n",
    "    n_var.append(i+1)\n",
    "    #print((i+1),\" \",x_i)"
   ]
  },
  {
   "cell_type": "code",
   "execution_count": null,
   "id": "a26b8c67",
   "metadata": {},
   "outputs": [],
   "source": [
    "plp.plot(n_var,pob_var,linewidth=2,color=\"red\")"
   ]
  },
  {
   "cell_type": "code",
   "execution_count": null,
   "id": "dddcb666",
   "metadata": {},
   "outputs": [],
   "source": [
    "#LOGISTIC MAP\n",
    "formula ='𝑋𝑛+1=𝑟𝑋𝑛(1−𝑋𝑛)'"
   ]
  },
  {
   "cell_type": "code",
   "execution_count": null,
   "id": "5dc7e359",
   "metadata": {
    "lines_to_next_cell": 1
   },
   "outputs": [],
   "source": [
    "from pylab import show, scatter, xlim, ylim\n",
    "from random import randint\n",
    "iter = 1000         # Numero iteraciones por punto\n",
    "x_0 = 0.5          # valor inicial x in (0, 1)\n",
    "spacing = .0001     # difernecias entre puntos dominio (r-axis)\n",
    "res = 10           # n-circulo mas grande visible\n",
    "# listas de r y x\n",
    "rlist = []\n",
    "xlist = []\n",
    "def logisticmap(x, r):\n",
    "    return x * r * (1 - x)\n",
    "def iterate(n, x, r):\n",
    "    for i in range(1,n):\n",
    "        x = logisticmap(x, r)\n",
    "    return x   # devuelve enumero iteraciones del logistic map(x. r)\n",
    "for r in [i * spacing for i in range(int(1/spacing),int(4/spacing))]:\n",
    "    rlist.append(r)\n",
    "    xlist.append(iterate(randint(iter-res/2,iter+res/2), x_0, r))# Generate list values -- iterate for each value of r\n",
    "scatter(rlist, xlist, s = .01,color='red')\n",
    "xlim(0.9, 4.1)\n",
    "ylim(-0.1,1.1)\n",
    "show()"
   ]
  },
  {
   "cell_type": "code",
   "execution_count": null,
   "id": "cc75ee4b",
   "metadata": {
    "lines_to_next_cell": 1
   },
   "outputs": [],
   "source": [
    "#DISCRETE LOGISTIC EQUATION WITH PARAMETER r\n",
    "def f(x, r):\n",
    "    \"\"\"Discrete logistic equation with parameter r\"\"\"\n",
    "    return r*x*(1-x)"
   ]
  },
  {
   "cell_type": "code",
   "execution_count": null,
   "id": "6d3c0a65",
   "metadata": {},
   "outputs": [],
   "source": [
    "if __name__ == '__main__':\n",
    "    # initial condition for x\n",
    "    ys = []\n",
    "    rs = np.linspace(0, 4, 400)\n",
    "    for r in rs:\n",
    "        x = 0.1\n",
    "        for i in range(500):\n",
    "            x = f(x, r)\n",
    "\n",
    "        for i in range(50):\n",
    "            x = f(x, r)\n",
    "            ys.append([r, x])\n",
    "\n",
    "    ys = np.array(ys)\n",
    "    pylab.plot(ys[:,0], ys[:,1], '.')\n",
    "    pylab.show()"
   ]
  },
  {
   "cell_type": "code",
   "execution_count": null,
   "id": "7f7e0a70",
   "metadata": {},
   "outputs": [],
   "source": [
    "# 3ra forma - no idea\n",
    "for i in range(50):\n",
    "    def f(x, r):#EC.logistica con parametro r\n",
    "        return(r*x*(1-x))"
   ]
  },
  {
   "cell_type": "code",
   "execution_count": null,
   "id": "24f94ab4",
   "metadata": {
    "lines_to_next_cell": 1
   },
   "outputs": [],
   "source": [
    "if __name__ == '__main__':#  condicion inicial para x\n",
    "\n",
    "    ys = []\n",
    "    rs = np.linspace(0, 4, 400)\n",
    "\n",
    "    for r in rs:\n",
    "        x = 0.1 # se asignan los valores en rs uno a la vez\n",
    "\n",
    "        for i in range(500):# hacerlo 500 veces.\n",
    "            x = f(x, r) # Evalúa f en (x, r). valor retornado asignado a x.\n",
    "                         # x es realimentada a  f(x, r). Cambia 500 veces segun ecuacion logistica\n",
    "\n",
    "        for i in range(50):# hacerlo 50 veces\n",
    "            x = f(x, r)\n",
    "            ys.append([r, x]) # Save the point (r, x) in the list ys\n",
    "\n",
    "    # ys is a list of lists.\n",
    "    # You can also think of ys as a list of [r, x] point.\n",
    "    # This converts the list of lists into a 2D numpy array.\n",
    "    ys = np.array(ys)\n",
    "    pylab.plot(ys[:,0], ys[:,1], '.')  # ys[:,0] is a 1D array of r values, ys[:, 1] is a 1D array of x values\n",
    "    pylab.show()"
   ]
  },
  {
   "cell_type": "code",
   "execution_count": null,
   "id": "bed49291",
   "metadata": {},
   "outputs": [],
   "source": [
    "#RELACION AUREA\n",
    "def fib(n):\n",
    "    a = 1\n",
    "    b = 0\n",
    "    for i in range(n):\n",
    "        a, b = b, a + b\n",
    "    return b\n",
    "def fi(n):\n",
    "    return fib(n) / fib(n - 1)\n",
    "print('φ =', fi(100))"
   ]
  },
  {
   "cell_type": "code",
   "execution_count": null,
   "id": "9a63742e",
   "metadata": {
    "lines_to_next_cell": 2
   },
   "outputs": [],
   "source": [
    "def fibonacci(n):\n",
    "    result = []\n",
    "    x, y = 0, 1\n",
    "    while x < n:\n",
    "        result.append(x)\n",
    "    x, y = y, y + x\n",
    "    print (result)\n",
    "fibonacci(1000)"
   ]
  },
  {
   "cell_type": "code",
   "execution_count": null,
   "id": "16b95fb0",
   "metadata": {},
   "outputs": [],
   "source": [
    "from math import sqrt\n",
    "fi = 1.618033988749895\n",
    "def fib(n):\n",
    "    return (fi ** n - (1 - fi) ** n) / sqrt(5)\n",
    "for i in range(16):\n",
    "    print(\"fib({0}) = {1}\".format(i, fib(i))) #ELEMENTO N-EESIMO SUCESION"
   ]
  },
  {
   "cell_type": "code",
   "execution_count": null,
   "id": "3205c8b2",
   "metadata": {},
   "outputs": [],
   "source": [
    "from turtle import *# funciones de gráficas DE TURTLE\n",
    "fi = 1.618033988749895\n",
    "def espiral(n):\n",
    "    radio = 10 #  radio inicial\n",
    "\n",
    "    for i in range(n):    # n veces.\n",
    "        circle(radio,90) # Dibujar el arco de un cierto radio Y  90 grados.\n",
    "        radio *= fi       # Aumentar radio por el factor fi.\n",
    "hideturtle()       # Esconder\n",
    "color('SteelBlue') # color de la pluma: azul metálico.\n",
    "pensize(20)        # tamaño de  pluma: 20 pixeles.\n",
    "speed('fastest')   # Establecer velocidad de tortuga: máxima.\n",
    "setheading(270)    # Apuntar la tortuga hacia el sur.\n",
    "espiral(8)         # Dibujar espiral de orden 8.\n",
    "done()             # Evitar  ventana cierre"
   ]
  },
  {
   "cell_type": "code",
   "execution_count": null,
   "id": "2026f52d",
   "metadata": {
    "lines_to_next_cell": 1
   },
   "outputs": [],
   "source": [
    "def cuadro(longitud): #cuadro de lado longitud\n",
    "\n",
    "    begin_fill()\n",
    "    for i in range(4):\n",
    "        fd(longitud)\n",
    "        lt(90)\n",
    "    end_fill()"
   ]
  },
  {
   "cell_type": "code",
   "execution_count": null,
   "id": "9fa52235",
   "metadata": {
    "lines_to_next_cell": 1
   },
   "outputs": [],
   "source": [
    "def rectangulo_dorado(n, longitud):\n",
    "    #rectengulo de n cuadrados. El primer cuadrado tiene sus lados de tamaño 'longitud'.\n",
    "\n",
    "    for i in range(n):\n",
    "        cuadro(longitud)\n",
    "\n",
    "        # Mover la tortuga a la esquina contraria y girarla 90 grados a la izquierda.\n",
    "        fd(longitud)\n",
    "        lt(90)\n",
    "        fd(longitud)\n",
    "\n",
    "        longitud *= fi"
   ]
  },
  {
   "cell_type": "code",
   "execution_count": null,
   "id": "4acf0085",
   "metadata": {
    "lines_to_next_cell": 1
   },
   "outputs": [],
   "source": [
    "def espiral_dorada(n, radio):\n",
    "    #Dibuja una espiral dorada compuesta de 'n' arcos. El primer arco tiene un radio de tamaño 'radio'.\n",
    "\n",
    "    for i in range(n):\n",
    "        circle(radio, 90)\n",
    "        radio *= fi"
   ]
  },
  {
   "cell_type": "code",
   "execution_count": null,
   "id": "ffe13222",
   "metadata": {},
   "outputs": [],
   "source": [
    "def espiral(n, radio):\n",
    "    #Dibuja una espiral dorada de orden 'n' sobre el rectángulo dorado que lo alberga.\n",
    "    #El primer arco/cuadro tiene un radio/lado de tamaño 'radio'.\n",
    "\n",
    "\n",
    "    color('White')\n",
    "    fillcolor('SteelBlue')\n",
    "    pensize(1)\n",
    "    rectangulo_dorado(n, radio)\n",
    "\n",
    "    # Regresa la tortuga al centro de la pantalla pero sin dibujar por su paso.\n",
    "    penup()\n",
    "    home()\n",
    "    pendown()\n",
    "\n",
    "    color('Gold')\n",
    "    pensize(4)\n",
    "    espiral_dorada(n, radio)"
   ]
  },
  {
   "cell_type": "code",
   "execution_count": null,
   "id": "d4a0eaac",
   "metadata": {},
   "outputs": [],
   "source": [
    "hideturtle()\n",
    "speed('slow')\n",
    "espiral(11, 2)\n",
    "done()"
   ]
  },
  {
   "cell_type": "code",
   "execution_count": null,
   "id": "a3aed21e",
   "metadata": {},
   "outputs": [],
   "source": [
    "%lsmagic"
   ]
  },
  {
   "cell_type": "code",
   "execution_count": null,
   "id": "a7a1232b",
   "metadata": {
    "lines_to_next_cell": 2
   },
   "outputs": [],
   "source": [
    "%%latex\n",
    "$\\begin{center}\n",
    "Analisis exploratorio de datos\n",
    "\\end {center}\n",
    "\\begin {itemize}\n",
    "items medidas de tendencia central\n",
    "\\end {itemize}$\n",
    "$$\\bar{x}$$"
   ]
  },
  {
   "cell_type": "code",
   "execution_count": null,
   "id": "97adc0d8",
   "metadata": {},
   "outputs": [],
   "source": [
    "np.percentile(variable,[25,50,75])"
   ]
  },
  {
   "cell_type": "code",
   "execution_count": null,
   "id": "45432af6",
   "metadata": {
    "lines_to_next_cell": 2
   },
   "outputs": [],
   "source": []
  },
  {
   "cell_type": "markdown",
   "id": "d9b66af8",
   "metadata": {},
   "source": [
    "list = []\n",
    "tuple =()\n",
    "dict ={}"
   ]
  },
  {
   "cell_type": "code",
   "execution_count": null,
   "id": "4c33222f",
   "metadata": {},
   "outputs": [],
   "source": [
    "list =[1,2,3,4]\n",
    "list.insert(position, Listobject)\n",
    "del list[position]"
   ]
  },
  {
   "cell_type": "code",
   "execution_count": null,
   "id": "b05c2f57",
   "metadata": {},
   "outputs": [],
   "source": [
    "list.remove(Listobject)\n",
    "list.sort()\n",
    "newlist = sorted(list, reverse = True)\n",
    "list[0:2] # primer y segundo ELEMENTO\n",
    "list[:4] # del primer al cuarto ELEMENTO\n",
    "list[3:] # del cuarto al ultimo\n",
    "list[:] # todo, copia de la lista\n",
    "list[0:7:2] # del primero al septimo intercalado\n",
    "list[-3:-1] # del 3 de atras para adelante si incluir el primero de atrásc\n",
    "list[2:4] = [x,y] # reasigna ColumnadeValores\n",
    "del list[4:6] # borra valores"
   ]
  },
  {
   "cell_type": "code",
   "execution_count": null,
   "id": "f0c947b5",
   "metadata": {},
   "outputs": [],
   "source": []
  },
  {
   "cell_type": "code",
   "execution_count": null,
   "id": "cb9dbddf",
   "metadata": {},
   "outputs": [],
   "source": [
    "len([]) #largo de lista vacia =0"
   ]
  },
  {
   "cell_type": "code",
   "execution_count": null,
   "id": "494cb8ca",
   "metadata": {
    "lines_to_next_cell": 1
   },
   "outputs": [],
   "source": [
    "tuple= (1,2,3,4) # can do indexing, slicing but not modifying"
   ]
  },
  {
   "cell_type": "code",
   "execution_count": null,
   "id": "c090d8f8",
   "metadata": {
    "lines_to_next_cell": 1
   },
   "outputs": [],
   "source": [
    "#unpackaging tuple with *\n",
    "def three_args(a,b,c):\n",
    "    print(a,b,c)"
   ]
  },
  {
   "cell_type": "code",
   "execution_count": null,
   "id": "ac1aadce",
   "metadata": {},
   "outputs": [],
   "source": [
    "my_args = (1,2,3)\n",
    "three_args(*my_args) # devuelve 1 2 3"
   ]
  },
  {
   "cell_type": "code",
   "execution_count": null,
   "id": "7be2360b",
   "metadata": {},
   "outputs": [],
   "source": []
  },
  {
   "cell_type": "markdown",
   "id": "29958894",
   "metadata": {},
   "source": [
    "DICTIONARIES AND SETS"
   ]
  },
  {
   "cell_type": "code",
   "execution_count": null,
   "id": "f99cc015",
   "metadata": {},
   "outputs": [],
   "source": [
    "capitals = {'US': 'Washington, DC' , 'France': 'Paris', 'Italy': 'Rome'} #creación\n",
    "capitals['Italy'] # traer el atributo con la key\n",
    "capitals['Spain'] = 'Madrid' #añade objeto al diccionario\n",
    "'Germany' in capitals, 'Italy' in capitals # devuelve (False, True) verificando existencia en diccionario"
   ]
  },
  {
   "cell_type": "code",
   "execution_count": null,
   "id": "cbed204c",
   "metadata": {},
   "outputs": [],
   "source": [
    "moreCapitals = {'Germany': 'Berlin', 'UK': 'London'}\n",
    "capitals.update(moreCapitals) #combina los diccionarios"
   ]
  },
  {
   "cell_type": "code",
   "execution_count": null,
   "id": "cf40ba66",
   "metadata": {},
   "outputs": [],
   "source": [
    "del capitals('UK') #borrar item con su key\n",
    "# LAS KEYS NO NECESARIAMENTE STRINGS, SINO CUALQUIER HASHABLE (CONVERTIBLE A NUMERO)\n",
    "#por ejemplo un tuple\n",
    "birthdays = {(7,15):'Michele', (3,14):'Albert'}\n",
    "#se comprueba con HASH\n",
    "hash('Italy')\n",
    "hash((7,15))"
   ]
  },
  {
   "cell_type": "markdown",
   "id": "7559c183",
   "metadata": {},
   "source": [
    "LOOPS EN diccionario"
   ]
  },
  {
   "cell_type": "code",
   "execution_count": null,
   "id": "35f8077d",
   "metadata": {},
   "outputs": [],
   "source": [
    "for key in dictionary: # loop over the keys"
   ]
  },
  {
   "cell_type": "code",
   "execution_count": null,
   "id": "03b1a0f0",
   "metadata": {},
   "outputs": [],
   "source": [
    "for key in dictionary.keys(): #loop explicitly over the keys"
   ]
  },
  {
   "cell_type": "code",
   "execution_count": null,
   "id": "e4587e80",
   "metadata": {},
   "outputs": [],
   "source": [
    "for value in dictionary.values(): #Loop over the VALUES"
   ]
  },
  {
   "cell_type": "code",
   "execution_count": null,
   "id": "7381de46",
   "metadata": {},
   "outputs": [],
   "source": [
    "for key, value in dictionary.items(): #loop over key and value together"
   ]
  },
  {
   "cell_type": "code",
   "execution_count": null,
   "id": "2b0b152f",
   "metadata": {},
   "outputs": [],
   "source": [
    "for country in capitals.keys():#OVER KEYS\n",
    "    print(country)"
   ]
  },
  {
   "cell_type": "code",
   "execution_count": null,
   "id": "839c0396",
   "metadata": {},
   "outputs": [],
   "source": [
    "capitals.keys() #special iterator Listobject\n",
    "#pasarlo a lista\n",
    "list(capitals.keys())"
   ]
  },
  {
   "cell_type": "code",
   "execution_count": null,
   "id": "857abed1",
   "metadata": {},
   "outputs": [],
   "source": [
    "for capital in capitals.values():#OVER VALUES\n",
    "    print(capital)"
   ]
  },
  {
   "cell_type": "code",
   "execution_count": null,
   "id": "8fc0ff6c",
   "metadata": {},
   "outputs": [],
   "source": [
    "for country, capital in capitals.items()#OVER KEYS AND VALUES\n",
    "    print(country, capital) #tuple unpackaging"
   ]
  },
  {
   "cell_type": "markdown",
   "id": "0e61ff59",
   "metadata": {},
   "source": [
    "SETS, BAGS OF ITEMS MIXET TYPES AND WITHOUT DUPLICATIONS, NOT INDEXED"
   ]
  },
  {
   "cell_type": "code",
   "execution_count": null,
   "id": "1d70caa5",
   "metadata": {},
   "outputs": [],
   "source": [
    "continents = {'Africa','America','Europe','Asia','Oceania', 'Africa'} # si tenemos duplicados, solo nos mostrará 1 vez cada uno"
   ]
  },
  {
   "cell_type": "code",
   "execution_count": null,
   "id": "63ae80ef",
   "metadata": {},
   "outputs": [],
   "source": [
    "'Africa' in continents #verificar existencia en set"
   ]
  },
  {
   "cell_type": "code",
   "execution_count": null,
   "id": "19ac5f39",
   "metadata": {},
   "outputs": [],
   "source": [
    "continents.add('Antarctica') #añade al set\n",
    "continents.remove('Antarctica') #elimina del set"
   ]
  },
  {
   "cell_type": "code",
   "execution_count": null,
   "id": "9e15fe8a",
   "metadata": {},
   "outputs": [],
   "source": [
    "for c in continents: #loop over the set\n",
    "    print (c)"
   ]
  },
  {
   "cell_type": "markdown",
   "id": "1f8b7021",
   "metadata": {
    "lines_to_next_cell": 2
   },
   "source": [
    "Metodos y atributos de clases son almaacenados internamente en los diccionarios"
   ]
  },
  {
   "cell_type": "markdown",
   "id": "e57e9ba3",
   "metadata": {},
   "source": [
    "Iterate on lists or Dicts\n",
    "colecto results on new list or dicts"
   ]
  },
  {
   "cell_type": "code",
   "execution_count": null,
   "id": "d1dd452b",
   "metadata": {},
   "outputs": [],
   "source": [
    "squares=[]\n",
    "for i in range (1,11):\n",
    "    squares.append(i**2)\n",
    "#COMPREHENSIONS: Compressed version of Loop\n",
    "squares = [i**2 for i in range(1,11)] #computation before the loop inside a list"
   ]
  },
  {
   "cell_type": "code",
   "execution_count": null,
   "id": "9c9f9ae2",
   "metadata": {},
   "outputs": [],
   "source": [
    "#filter inside COMPREHENSIONS\n",
    "squares_by_four = [i**2 for i in range(1,11) if i**2 % 4 == 0] # condicion de que sea divisible por 4\n",
    "# devuelve  [4,16,36,64,100]\n",
    "#replace map and filter built.in functions"
   ]
  },
  {
   "cell_type": "code",
   "execution_count": null,
   "id": "c5ea4d36",
   "metadata": {},
   "outputs": [],
   "source": [
    "#DICTIONARY COMPREHENSIONS\n",
    "squares_dict = {i: i**2 for i in range (1, 11)}\n",
    "#used sometimes to transpose an existing dict, change keys"
   ]
  },
  {
   "cell_type": "code",
   "execution_count": null,
   "id": "bcf42c69",
   "metadata": {},
   "outputs": [],
   "source": [
    "# GENERATOR EXPRESSIONS\n",
    "sum(i**2 for i in range(1,11))\n",
    "#naked comprehensions for generate sequences and consume elements one by one\n",
    "#without ever storing them in a list or dict\n",
    "#in this example fed directly to sum (saving memory and time)"
   ]
  },
  {
   "cell_type": "code",
   "execution_count": null,
   "id": "bb81d990",
   "metadata": {},
   "outputs": [],
   "source": [
    "#NESTED LOOP\n",
    "counting = []\n",
    "for i in range(1,11):\n",
    "    for j in range(1, i+1):\n",
    "        counting.append(j)\n",
    "print(counting)"
   ]
  },
  {
   "cell_type": "code",
   "execution_count": null,
   "id": "5681679b",
   "metadata": {
    "lines_to_next_cell": 2
   },
   "outputs": [],
   "source": [
    "#lo mismo que este NESTED COMPREHENSIONS\n",
    "counting = [j for i in range (1,11) for j in range (1, i+1)]\n",
    "print(counting)\n",
    "# imprime lista [1,1,2,1,2,3,1,2,3,4,.....1,2,3,4,5,6,7,8,9,10]"
   ]
  },
  {
   "cell_type": "markdown",
   "id": "0334efd1",
   "metadata": {},
   "source": [
    "ADVANCED CONTAINERS"
   ]
  },
  {
   "cell_type": "code",
   "execution_count": null,
   "id": "ec966440",
   "metadata": {},
   "outputs": [],
   "source": [
    "people = [\n",
    "    (\"Michele\", \"Vallisneri\", \"July 15\"),\n",
    "    (\"Albert\", \"Einstein\", \"March 14\"),\n",
    "    (\"John\", \"Lennon\", \"October 9\"),\n",
    "    (\"Jocelyn\", \"Bell Burnell\", \"July 15\")\n",
    "]"
   ]
  },
  {
   "cell_type": "code",
   "execution_count": null,
   "id": "04b318c3",
   "metadata": {},
   "outputs": [],
   "source": [
    "people [0][0]\n",
    "# 'Michele'\n",
    "people [0][1]\n",
    "# 'Vallisneri'"
   ]
  },
  {
   "cell_type": "code",
   "execution_count": null,
   "id": "5ffc622d",
   "metadata": {},
   "outputs": [],
   "source": [
    "[person for person in people if person[2] == \"July 15\"] #loop sobre los que tienen ese valor"
   ]
  },
  {
   "cell_type": "markdown",
   "id": "7273becb",
   "metadata": {},
   "source": [
    "SPECIALIZED TUPLE"
   ]
  },
  {
   "cell_type": "code",
   "execution_count": null,
   "id": "95e47f2c",
   "metadata": {},
   "outputs": [],
   "source": [
    "persontype = sollections.namedtuple('person', ['firstname', 'lastname', 'birthday' ]) #name and asociate labels with fields"
   ]
  },
  {
   "cell_type": "code",
   "execution_count": null,
   "id": "ce77b208",
   "metadata": {},
   "outputs": [],
   "source": [
    "#Instances of the namedtuple\n",
    "michele = persontype(\"Michele\",\"Vallisneri\",\"July 15\")\n",
    "#si se usan los fiel names, se puede switchear\n",
    "michele = persontype(lastname=\"Vallisneri\",firstname=\"Michele\",birthday=\"July 15\")"
   ]
  },
  {
   "cell_type": "code",
   "execution_count": null,
   "id": "d396b759",
   "metadata": {},
   "outputs": [],
   "source": [
    "#aun funcionan indices...\n",
    "michele[0], michele[1], michele[2]\n",
    "#pero mejor usar sintaxis orientada a objetos\n",
    "michele.firstname, michele.lastname, michele.birthday"
   ]
  },
  {
   "cell_type": "code",
   "execution_count": null,
   "id": "c0c0e78e",
   "metadata": {},
   "outputs": [],
   "source": [
    "persontype(people[0])# Incorrecto usar este, no hacer Feed a tuple directly to persontype"
   ]
  },
  {
   "cell_type": "code",
   "execution_count": null,
   "id": "99a3c4cb",
   "metadata": {},
   "outputs": [],
   "source": [
    "#TUPLE unpackaging\n",
    "persontype(*people[0])"
   ]
  },
  {
   "cell_type": "code",
   "execution_count": null,
   "id": "48663d13",
   "metadata": {},
   "outputs": [],
   "source": [
    "#Completo a partir de list comprehensions\n",
    "namedpeople = [persontype(*person) for person in people]\n",
    "namedpeople # imprime la lista con los persontype de todos los que estaban en la lista de tuplas \"people\""
   ]
  },
  {
   "cell_type": "code",
   "execution_count": null,
   "id": "b46cefa6",
   "metadata": {
    "lines_to_next_cell": 1
   },
   "outputs": [],
   "source": [
    "#Birthsday search improved\n",
    "[person for person in namedpeople if person.birthday == \"July 15\"]"
   ]
  },
  {
   "cell_type": "markdown",
   "id": "eb19ffc7",
   "metadata": {},
   "source": [
    "Python 3.7 alternative to tuples for storing data records DATACLASSES"
   ]
  },
  {
   "cell_type": "code",
   "execution_count": null,
   "id": "17d0c96c",
   "metadata": {
    "lines_to_next_cell": 1
   },
   "outputs": [],
   "source": [
    "@dataclass\n",
    "class personclass:\n",
    "    firstname: str\n",
    "    lastname: str\n",
    "    birthday: str = 'unknown'"
   ]
  },
  {
   "cell_type": "code",
   "execution_count": null,
   "id": "835a4c4d",
   "metadata": {},
   "outputs": [],
   "source": [
    "michele = personclass('Michele', 'Vallinsneri')\n",
    "michele"
   ]
  },
  {
   "cell_type": "code",
   "execution_count": null,
   "id": "d2c5bf80",
   "metadata": {
    "lines_to_next_cell": 1
   },
   "outputs": [],
   "source": [
    "michele = personclass(firstname ='Michele', lastname='Vallisneri')\n",
    "michele.firstname, michele.lastname, michele.birthday #Se puede acceder el campo por nombre pero no por indice\n",
    "michele[0] #ERROR"
   ]
  },
  {
   "cell_type": "code",
   "execution_count": null,
   "id": "045f6989",
   "metadata": {
    "lines_to_next_cell": 1
   },
   "outputs": [],
   "source": [
    "#DEFINE METHODS THART OPERATE ON THE FIELDS, EXAMPLE METHOD TO RETURN FULLNAME\n",
    "@dataclass\n",
    "class personclass2:\n",
    "    firstname: str\n",
    "    lastname: str\n",
    "    birthday: str = 'unknown'\n",
    "\n",
    "    def fullname(self):\n",
    "        return self.firstname+' '+self.lastname"
   ]
  },
  {
   "cell_type": "code",
   "execution_count": null,
   "id": "b9957c06",
   "metadata": {
    "lines_to_next_cell": 1
   },
   "outputs": [],
   "source": [
    "michele = personclass2('Michele','Vallisneri', 'July 15')\n",
    "michele.fullname()"
   ]
  },
  {
   "cell_type": "code",
   "execution_count": null,
   "id": "9ab53714",
   "metadata": {
    "lines_to_next_cell": 1
   },
   "outputs": [],
   "source": [
    "#esc + a para insertar celda arriba en notebooks\n",
    "def mydefault():\n",
    "    return \"I don't know\""
   ]
  },
  {
   "cell_type": "code",
   "execution_count": null,
   "id": "f9c29b7d",
   "metadata": {},
   "outputs": [],
   "source": [
    "questions = collections.defaultdict(mydefault)\n",
    "questions['The meaning of life'] #asknig for an unexisting key return the default and makes it part of the dict\n",
    "#useful for creating dict from lists"
   ]
  }
 ],
 "metadata": {
  "jupytext": {
   "cell_metadata_filter": "-all",
   "main_language": "python",
   "notebook_metadata_filter": "-all"
  },
  "language_info": {
   "name": "python"
  }
 },
 "nbformat": 4,
 "nbformat_minor": 5
}
